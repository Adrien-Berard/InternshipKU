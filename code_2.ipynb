{
 "cells": [
  {
   "cell_type": "markdown",
   "metadata": {},
   "source": [
    "## Molecular dynamics simulation of the paper of Kim \n",
    "Skjegstad, L. E. J., Nickels, J. F., Sneppen, K. & Kirkegaard, J. B. Epigenetic switching with asymmetric bridging interactions. Biophysical Journal 122, 2421–2429 (2023).\n"
   ]
  },
  {
   "cell_type": "code",
   "execution_count": 51,
   "metadata": {},
   "outputs": [],
   "source": [
    "from matplotlib import pyplot as plt\n",
    "import numpy as np\n",
    "import pandas as pd\n",
    "#from scipy.optimize import fsolve\n",
    "from scipy.special import lambertw"
   ]
  },
  {
   "cell_type": "markdown",
   "metadata": {},
   "source": []
  },
  {
   "cell_type": "markdown",
   "metadata": {},
   "source": [
    "\"The dynamics of the chromatin is described by an over-damped Langevin equation of the form: \n",
    "$$ d\\textbf{X}_i(t) = - \\nabla_{X_i} U (\\textbf{X}(t)) dt + d\\textbf{W}_i(t) $$\n",
    "where $\\textbf{X}_i$ is the position of the i’th monomer, U is the aggregate potential function, and $\\textbf{W}$ is a Wiener process satisfying $<\\textbf{W}_i(t) , \\textbf{W}_i(t')> = 3\\sigma^2\\delta(t-t')$, with $\\sigma$ setting the diffusive noise scale.\""
   ]
  },
  {
   "cell_type": "markdown",
   "metadata": {},
   "source": [
    "\"The potential U depends on the positions and states of all other monomers : \n",
    "$$ U \\propto [\\sum_{ij} e^{-4r_{ij}/{l_0}} - \\sum_{ij  \\in  bonds} e^{-4br_{ij}/{l_0}}]$$\n",
    "\n",
    "Here, the terms in the first summation account for repulsion between all monomers, and the terms in the second summation account for attraction for the S-state monomers that form bonds. For bonded monomers, the two exponential terms create a potential well with an equilibrium distance equal to $l_0/2$, ensured by setting $b = - LambertW(-2e^{-2})/2$. We note that U, as specified here, does not constitute the total potential, as, again, adjacent monomers in the polymer are constrained to be distance $l_0$ from one another.\""
   ]
  },
  {
   "cell_type": "markdown",
   "metadata": {},
   "source": [
    "As in the article we will use the Euler-Marayuma algorithm to resolve the 1st equation"
   ]
  },
  {
   "cell_type": "code",
   "execution_count": 52,
   "metadata": {},
   "outputs": [],
   "source": [
    "def compute_b_lambertw(l0):\n",
    "    b_solution = lambertw(-2 * np.exp(-2)) / 2\n",
    "    return b_solution.real"
   ]
  },
  {
   "cell_type": "code",
   "execution_count": 69,
   "metadata": {},
   "outputs": [],
   "source": [
    "def potential_energy(positions, bonds, l0, b):\n",
    "    repulsion_term = np.sum(np.exp(-4 * np.abs(positions[:, np.newaxis] - positions) / l0), dtype=np.float128)\n",
    "    bonding_term = np.sum(np.exp(-4 * b * np.abs(positions[:, np.newaxis] - positions[bonds]) / l0), dtype=np.float128)\n",
    "    #\n",
    "    return repulsion_term - bonding_term"
   ]
  },
  {
   "cell_type": "code",
   "execution_count": 54,
   "metadata": {},
   "outputs": [],
   "source": [
    "def potential_gradient(positions, bonds, l0, b):\n",
    "    repulsion_gradient = -4 * np.sum(np.sign(positions[:, np.newaxis] - positions) *\n",
    "                                     np.exp(-4 * np.abs(positions[:, np.newaxis] - positions) / l0) / l0, axis=1, dtype=np.float128)\n",
    "\n",
    "    bonding_gradient = 4 * b * np.sum(np.sign(positions[:, np.newaxis] - positions[bonds[:, 0]]) *\n",
    "                                          np.exp(-4 * b * np.abs(positions[:, np.newaxis] - positions[bonds[:, 0]]) / l0) / l0, axis=1, dtype=np.float128)\n",
    "\n",
    "    #bonding_gradient = 0\n",
    "    return repulsion_gradient - bonding_gradient\n"
   ]
  },
  {
   "cell_type": "code",
   "execution_count": 70,
   "metadata": {},
   "outputs": [],
   "source": [
    "# Function for Langevin dynamics simulation\n",
    "def langevin_dynamics(positions, bonds, l0, b, diffusion_coefficient, time_step, num_steps):\n",
    "    num_particles = len(positions)\n",
    "    trajectory = [positions.copy()]\n",
    "\n",
    "    for _ in range(num_steps):\n",
    "        # Compute the noise term\n",
    "        noise = np.random.normal(0, np.sqrt(6 * diffusion_coefficient * time_step), (num_particles,3))\n",
    "\n",
    "        # Compute the potential gradient\n",
    "        grad_potential = potential_gradient(positions, bonds, l0, b)\n",
    "\n",
    "        # Update positions using overdamped Langevin dynamics\n",
    "        positions = positions - grad_potential * time_step + noise\n",
    "\n",
    "        # Store the updated positions in the trajectory\n",
    "        trajectory.append(positions.copy())\n",
    "\n",
    "    return np.array(trajectory)\n"
   ]
  },
  {
   "cell_type": "code",
   "execution_count": 71,
   "metadata": {},
   "outputs": [],
   "source": [
    "def linear_initial_positions(num_particles,dimension):\n",
    "    startpts = np.array([1, 1, 1])\n",
    "    endpts = np.array(dimension*[num_particles])\n",
    "\n",
    "    return np.linspace(start=startpts, stop=endpts, num=num_particles)\n"
   ]
  },
  {
   "cell_type": "code",
   "execution_count": 72,
   "metadata": {},
   "outputs": [
    {
     "name": "stderr",
     "output_type": "stream",
     "text": [
      "/var/folders/jg/gqqb9c4s6qd3ftqhm6____m80000gn/T/ipykernel_52864/3713077086.py:6: RuntimeWarning: overflow encountered in exp\n",
      "  np.exp(-4 * b * np.abs(positions[:, np.newaxis] - positions[bonds[:, 0]]) / l0) / l0, axis=1, dtype=np.float128)\n",
      "/var/folders/jg/gqqb9c4s6qd3ftqhm6____m80000gn/T/ipykernel_52864/3713077086.py:2: RuntimeWarning: invalid value encountered in subtract\n",
      "  repulsion_gradient = -4 * np.sum(np.sign(positions[:, np.newaxis] - positions) *\n",
      "/var/folders/jg/gqqb9c4s6qd3ftqhm6____m80000gn/T/ipykernel_52864/3713077086.py:3: RuntimeWarning: invalid value encountered in subtract\n",
      "  np.exp(-4 * np.abs(positions[:, np.newaxis] - positions) / l0) / l0, axis=1, dtype=np.float128)\n",
      "/Users/adrienberard/opt/anaconda3/envs/myenv2/lib/python3.12/site-packages/numpy/core/fromnumeric.py:88: RuntimeWarning: invalid value encountered in reduce\n",
      "  return ufunc.reduce(obj, axis, dtype, out, **passkwargs)\n",
      "/var/folders/jg/gqqb9c4s6qd3ftqhm6____m80000gn/T/ipykernel_52864/3713077086.py:5: RuntimeWarning: invalid value encountered in subtract\n",
      "  attraction_gradient = 4 * b * np.sum(np.sign(positions[:, np.newaxis] - positions[bonds[:, 0]]) *\n",
      "/var/folders/jg/gqqb9c4s6qd3ftqhm6____m80000gn/T/ipykernel_52864/3713077086.py:6: RuntimeWarning: invalid value encountered in subtract\n",
      "  np.exp(-4 * b * np.abs(positions[:, np.newaxis] - positions[bonds[:, 0]]) / l0) / l0, axis=1, dtype=np.float128)\n"
     ]
    }
   ],
   "source": [
    "# Parameters\n",
    "dimension = 3\n",
    "num_particles = 10\n",
    "diffusion_coefficient = 1.0\n",
    "time_step = 0.01\n",
    "num_steps = 1000\n",
    "l0 = 1.0  # equilibrium distance\n",
    "b = compute_b_lambertw(l0)\n",
    "\n",
    "# Example bonded pairs\n",
    "bonds = np.array([[i, (i + 1) % num_particles] for i in range(num_particles - 1)])\n",
    "\n",
    "# Initial positions (you can set these according to your problem)\n",
    "initial_positions = linear_initial_positions(num_particles,dimension)\n",
    "\n",
    "# Run Langevin dynamics simulation\n",
    "trajectory = langevin_dynamics(initial_positions, bonds, l0, b, diffusion_coefficient, time_step, num_steps)\n",
    "\n",
    "# Save the trajectory to an XYZ file\n",
    "with open('langevin_trajectory.xyz', 'w') as f:\n",
    "    for frame in trajectory:\n",
    "        f.write(f\"{num_particles}\\n\")\n",
    "        f.write(\"Generated by Langevin Dynamics\\n\")\n",
    "        for i in range(num_particles):\n",
    "            f.write(f\"P {frame[i, 0]} {frame[i, 1]} {frame[i, 2]}\\n\")\n"
   ]
  },
  {
   "cell_type": "markdown",
   "metadata": {},
   "source": [
    "Do a polymer chain with relations between the neighbors "
   ]
  },
  {
   "cell_type": "code",
   "execution_count": 68,
   "metadata": {},
   "outputs": [
    {
     "data": {
      "text/plain": [
       "array([[ 1.,  1.,  1.],\n",
       "       [ 2.,  2.,  2.],\n",
       "       [ 3.,  3.,  3.],\n",
       "       [ 4.,  4.,  4.],\n",
       "       [ 5.,  5.,  5.],\n",
       "       [ 6.,  6.,  6.],\n",
       "       [ 7.,  7.,  7.],\n",
       "       [ 8.,  8.,  8.],\n",
       "       [ 9.,  9.,  9.],\n",
       "       [10., 10., 10.]])"
      ]
     },
     "execution_count": 68,
     "metadata": {},
     "output_type": "execute_result"
    }
   ],
   "source": [
    "initial_positions"
   ]
  },
  {
   "cell_type": "code",
   "execution_count": null,
   "metadata": {},
   "outputs": [],
   "source": []
  }
 ],
 "metadata": {
  "kernelspec": {
   "display_name": "env1",
   "language": "python",
   "name": "python3"
  },
  "language_info": {
   "codemirror_mode": {
    "name": "ipython",
    "version": 3
   },
   "file_extension": ".py",
   "mimetype": "text/x-python",
   "name": "python",
   "nbconvert_exporter": "python",
   "pygments_lexer": "ipython3",
   "version": "3.12.1"
  }
 },
 "nbformat": 4,
 "nbformat_minor": 2
}
