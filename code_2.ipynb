{
 "cells": [
  {
   "cell_type": "markdown",
   "metadata": {},
   "source": [
    "## Molecular dynamics simulation of the paper of Kim \n",
    "Skjegstad, L. E. J., Nickels, J. F., Sneppen, K. & Kirkegaard, J. B. Epigenetic switching with asymmetric bridging interactions. Biophysical Journal 122, 2421–2429 (2023).\n"
   ]
  },
  {
   "cell_type": "code",
   "execution_count": 48,
   "metadata": {},
   "outputs": [],
   "source": [
    "from matplotlib import pyplot as plt\n",
    "import numpy as np\n",
    "import pandas as pd\n",
    "from scipy.optimize import fsolve\n",
    "from scipy.special import lambertw"
   ]
  },
  {
   "cell_type": "markdown",
   "metadata": {},
   "source": [
    "\"The dynamics of the chromatin is described by an over-damped Langevin equation of the form: \n",
    "$$ d\\textbf{X}_i(t) = - \\nabla_{X_i} U (\\textbf{X}(t)) dt + d\\textbf{W}_i(t) $$\n",
    "where $\\textbf{X}_i$ is the position of the i’th monomer, U is the aggregate potential function, and $\\textbf{W}$ is a Wiener process satisfying $<\\textbf{W}_i(t) , \\textbf{W}_i(t')> = 3\\sigma^2\\delta(t-t')$, with $\\sigma$ setting the diffusive noise scale.\""
   ]
  },
  {
   "cell_type": "markdown",
   "metadata": {},
   "source": [
    "\"The potential U depends on the positions and states of all other monomers : \n",
    "$$ U \\propto [\\sum_{ij} e^{-4r_{ij}/{l_0}} - \\sum_{ij  \\in  bonds} e^{-4br_{ij}/{l_0}}]$$\n",
    "\n",
    "Here, the terms in the first summation account for repulsion between all monomers, and the terms in the second summation account for attraction for the S-state monomers that form bonds. For bonded monomers, the two exponential terms create a potential well with an equilibrium distance equal to $l_0/2$, ensured by setting $b = - LambertW(-2e^{-2})/2$. We note that U, as specified here, does not constitute the total potential, as, again, adjacent monomers in the polymer are constrained to be distance $l_0$ from one another.\""
   ]
  },
  {
   "cell_type": "markdown",
   "metadata": {},
   "source": [
    "As in the article we will use the Euler-Marayuma algorithm to resolve the 1st equation"
   ]
  },
  {
   "cell_type": "code",
   "execution_count": 49,
   "metadata": {},
   "outputs": [],
   "source": [
    "def compute_b_lambertw(l0):\n",
    "    b_solution = lambertw(-2 * np.exp(-2)) / 2\n",
    "    return b_solution.real"
   ]
  },
  {
   "cell_type": "code",
   "execution_count": 50,
   "metadata": {},
   "outputs": [],
   "source": [
    "def potential_energy(positions, bonds, l0, b):\n",
    "    repulsion_term = np.sum(np.exp(-4 * np.abs(positions[:, np.newaxis] - positions) / l0))\n",
    "    attraction_term = np.sum(np.exp(-4 * b * np.abs(positions[:, np.newaxis] - positions[bonds]) / l0))\n",
    "    return repulsion_term - attraction_term"
   ]
  },
  {
   "cell_type": "code",
   "execution_count": 122,
   "metadata": {},
   "outputs": [],
   "source": [
    "def potential_gradient(positions, bonds, l0, b):\n",
    "    repulsion_gradient = -4 * np.sum(np.sign(positions[:, np.newaxis] - positions) *\n",
    "                                     np.exp(-4 * np.abs(positions[:, np.newaxis] - positions) / l0) / l0, axis=1)\n",
    "\n",
    "    attraction_gradient = 4 * b * np.sum(np.sign(positions[:, np.newaxis, np.newaxis] - positions[bonds]) *\n",
    "                                          np.exp(-4 * b * np.abs(positions[:, np.newaxis, np.newaxis] - positions[bonds]) / l0) / l0, axis=1)\n",
    "    \n",
    "    print(repulsion_gradient)\n",
    "    print(attraction_gradient)\n",
    "\n",
    "    return repulsion_gradient - attraction_gradient"
   ]
  },
  {
   "cell_type": "code",
   "execution_count": 123,
   "metadata": {},
   "outputs": [],
   "source": [
    "def langevin_dynamics(positions, bonds, l0, b, diffusion_coefficient, time_step, num_steps):\n",
    "    num_particles = len(positions)\n",
    "    trajectory = [positions.copy()]\n",
    "\n",
    "    for _ in range(num_steps):\n",
    "        # Compute the noise term\n",
    "        noise = np.random.normal(0, np.sqrt(6 * diffusion_coefficient * time_step), num_particles)\n",
    "\n",
    "        # Compute the potential gradient\n",
    "        grad_potential = potential_gradient(positions, bonds, l0, b)\n",
    "\n",
    "        # Update positions using overdamped Langevin dynamics\n",
    "        positions = positions - grad_potential * time_step + noise\n",
    "\n",
    "        # Store the updated positions in the trajectory\n",
    "        trajectory.append(positions.copy())\n",
    "\n",
    "    return np.array(trajectory)"
   ]
  },
  {
   "cell_type": "code",
   "execution_count": 124,
   "metadata": {},
   "outputs": [],
   "source": [
    "# Parameters\n",
    "num_particles = 20\n",
    "diffusion_coefficient = 1.0\n",
    "time_step = 0.01\n",
    "num_steps = 1000\n",
    "l0 = 1.0  # equilibrium distance\n",
    "b = compute_b_lambertw(l0)"
   ]
  },
  {
   "cell_type": "code",
   "execution_count": 125,
   "metadata": {},
   "outputs": [],
   "source": [
    "# Example bonded pairs \n",
    "bonds = np.array([[i, (i + 1) % num_particles] for i in range(num_particles - 1)])"
   ]
  },
  {
   "cell_type": "code",
   "execution_count": 126,
   "metadata": {},
   "outputs": [],
   "source": [
    "# Initial random positions \n",
    "initial_positions = np.random.randn(num_particles)"
   ]
  },
  {
   "cell_type": "code",
   "execution_count": 127,
   "metadata": {},
   "outputs": [
    {
     "ename": "ValueError",
     "evalue": "operands could not be broadcast together with shapes (20,1) (19,2) ",
     "output_type": "error",
     "traceback": [
      "\u001b[0;31m---------------------------------------------------------------------------\u001b[0m",
      "\u001b[0;31mValueError\u001b[0m                                Traceback (most recent call last)",
      "Cell \u001b[0;32mIn[127], line 2\u001b[0m\n\u001b[1;32m      1\u001b[0m \u001b[38;5;66;03m# Run Langevin dynamics simulation\u001b[39;00m\n\u001b[0;32m----> 2\u001b[0m trajectory \u001b[38;5;241m=\u001b[39m \u001b[43mlangevin_dynamics\u001b[49m\u001b[43m(\u001b[49m\u001b[43minitial_positions\u001b[49m\u001b[43m,\u001b[49m\u001b[43m \u001b[49m\u001b[43mbonds\u001b[49m\u001b[43m,\u001b[49m\u001b[43m \u001b[49m\u001b[43ml0\u001b[49m\u001b[43m,\u001b[49m\u001b[43m \u001b[49m\u001b[43mb\u001b[49m\u001b[43m,\u001b[49m\u001b[43m \u001b[49m\u001b[43mdiffusion_coefficient\u001b[49m\u001b[43m,\u001b[49m\u001b[43m \u001b[49m\u001b[43mtime_step\u001b[49m\u001b[43m,\u001b[49m\u001b[43m \u001b[49m\u001b[43mnum_steps\u001b[49m\u001b[43m)\u001b[49m\n",
      "Cell \u001b[0;32mIn[123], line 10\u001b[0m, in \u001b[0;36mlangevin_dynamics\u001b[0;34m(positions, bonds, l0, b, diffusion_coefficient, time_step, num_steps)\u001b[0m\n\u001b[1;32m      7\u001b[0m noise \u001b[38;5;241m=\u001b[39m np\u001b[38;5;241m.\u001b[39mrandom\u001b[38;5;241m.\u001b[39mnormal(\u001b[38;5;241m0\u001b[39m, np\u001b[38;5;241m.\u001b[39msqrt(\u001b[38;5;241m6\u001b[39m \u001b[38;5;241m*\u001b[39m diffusion_coefficient \u001b[38;5;241m*\u001b[39m time_step), num_particles)\n\u001b[1;32m      9\u001b[0m \u001b[38;5;66;03m# Compute the potential gradient\u001b[39;00m\n\u001b[0;32m---> 10\u001b[0m grad_potential \u001b[38;5;241m=\u001b[39m \u001b[43mpotential_gradient\u001b[49m\u001b[43m(\u001b[49m\u001b[43mpositions\u001b[49m\u001b[43m,\u001b[49m\u001b[43m \u001b[49m\u001b[43mbonds\u001b[49m\u001b[43m,\u001b[49m\u001b[43m \u001b[49m\u001b[43ml0\u001b[49m\u001b[43m,\u001b[49m\u001b[43m \u001b[49m\u001b[43mb\u001b[49m\u001b[43m)\u001b[49m\n\u001b[1;32m     12\u001b[0m \u001b[38;5;66;03m# Update positions using overdamped Langevin dynamics\u001b[39;00m\n\u001b[1;32m     13\u001b[0m positions \u001b[38;5;241m=\u001b[39m positions \u001b[38;5;241m-\u001b[39m grad_potential \u001b[38;5;241m*\u001b[39m time_step \u001b[38;5;241m+\u001b[39m noise\n",
      "Cell \u001b[0;32mIn[122], line 5\u001b[0m, in \u001b[0;36mpotential_gradient\u001b[0;34m(positions, bonds, l0, b)\u001b[0m\n\u001b[1;32m      1\u001b[0m \u001b[38;5;28;01mdef\u001b[39;00m \u001b[38;5;21mpotential_gradient\u001b[39m(positions, bonds, l0, b):\n\u001b[1;32m      2\u001b[0m     repulsion_gradient \u001b[38;5;241m=\u001b[39m \u001b[38;5;241m-\u001b[39m\u001b[38;5;241m4\u001b[39m \u001b[38;5;241m*\u001b[39m np\u001b[38;5;241m.\u001b[39msum(np\u001b[38;5;241m.\u001b[39msign(positions[:, np\u001b[38;5;241m.\u001b[39mnewaxis] \u001b[38;5;241m-\u001b[39m positions) \u001b[38;5;241m*\u001b[39m\n\u001b[1;32m      3\u001b[0m                                      np\u001b[38;5;241m.\u001b[39mexp(\u001b[38;5;241m-\u001b[39m\u001b[38;5;241m4\u001b[39m \u001b[38;5;241m*\u001b[39m np\u001b[38;5;241m.\u001b[39mabs(positions[:, np\u001b[38;5;241m.\u001b[39mnewaxis] \u001b[38;5;241m-\u001b[39m positions) \u001b[38;5;241m/\u001b[39m l0) \u001b[38;5;241m/\u001b[39m l0, axis\u001b[38;5;241m=\u001b[39m\u001b[38;5;241m1\u001b[39m)\n\u001b[0;32m----> 5\u001b[0m     attraction_gradient \u001b[38;5;241m=\u001b[39m \u001b[38;5;241m4\u001b[39m \u001b[38;5;241m*\u001b[39m b \u001b[38;5;241m*\u001b[39m np\u001b[38;5;241m.\u001b[39msum(np\u001b[38;5;241m.\u001b[39msign(\u001b[43mpositions\u001b[49m\u001b[43m[\u001b[49m\u001b[43m:\u001b[49m\u001b[43m,\u001b[49m\u001b[43m \u001b[49m\u001b[43mnp\u001b[49m\u001b[38;5;241;43m.\u001b[39;49m\u001b[43mnewaxis\u001b[49m\u001b[43m]\u001b[49m\u001b[43m \u001b[49m\u001b[38;5;241;43m-\u001b[39;49m\u001b[43m \u001b[49m\u001b[43mpositions\u001b[49m\u001b[43m[\u001b[49m\u001b[43mbonds\u001b[49m\u001b[43m]\u001b[49m) \u001b[38;5;241m*\u001b[39m\n\u001b[1;32m      6\u001b[0m                                           np\u001b[38;5;241m.\u001b[39mexp(\u001b[38;5;241m-\u001b[39m\u001b[38;5;241m4\u001b[39m \u001b[38;5;241m*\u001b[39m b \u001b[38;5;241m*\u001b[39m np\u001b[38;5;241m.\u001b[39mabs(positions[:, np\u001b[38;5;241m.\u001b[39mnewaxis] \u001b[38;5;241m-\u001b[39m positions[bonds]) \u001b[38;5;241m/\u001b[39m l0) \u001b[38;5;241m/\u001b[39m l0, axis\u001b[38;5;241m=\u001b[39m\u001b[38;5;241m1\u001b[39m)\n\u001b[1;32m      8\u001b[0m     \u001b[38;5;28mprint\u001b[39m(repulsion_gradient)\n\u001b[1;32m      9\u001b[0m     \u001b[38;5;28mprint\u001b[39m(attraction_gradient)\n",
      "\u001b[0;31mValueError\u001b[0m: operands could not be broadcast together with shapes (20,1) (19,2) "
     ]
    }
   ],
   "source": [
    "# Run Langevin dynamics simulation\n",
    "trajectory = langevin_dynamics(initial_positions, bonds, l0, b, diffusion_coefficient, time_step, num_steps)"
   ]
  },
  {
   "cell_type": "code",
   "execution_count": null,
   "metadata": {},
   "outputs": [
    {
     "ename": "NameError",
     "evalue": "name 'trajectory' is not defined",
     "output_type": "error",
     "traceback": [
      "\u001b[0;31m---------------------------------------------------------------------------\u001b[0m",
      "\u001b[0;31mNameError\u001b[0m                                 Traceback (most recent call last)",
      "Cell \u001b[0;32mIn[41], line 3\u001b[0m\n\u001b[1;32m      1\u001b[0m \u001b[38;5;66;03m# Plot the trajectory\u001b[39;00m\n\u001b[1;32m      2\u001b[0m \u001b[38;5;28;01mfor\u001b[39;00m i \u001b[38;5;129;01min\u001b[39;00m \u001b[38;5;28mrange\u001b[39m(num_particles):\n\u001b[0;32m----> 3\u001b[0m     plt\u001b[38;5;241m.\u001b[39mplot(\u001b[43mtrajectory\u001b[49m[:, i], label\u001b[38;5;241m=\u001b[39m\u001b[38;5;124mf\u001b[39m\u001b[38;5;124m'\u001b[39m\u001b[38;5;124mParticle \u001b[39m\u001b[38;5;132;01m{\u001b[39;00mi\u001b[38;5;250m \u001b[39m\u001b[38;5;241m+\u001b[39m\u001b[38;5;250m \u001b[39m\u001b[38;5;241m1\u001b[39m\u001b[38;5;132;01m}\u001b[39;00m\u001b[38;5;124m'\u001b[39m)\n",
      "\u001b[0;31mNameError\u001b[0m: name 'trajectory' is not defined"
     ]
    }
   ],
   "source": [
    "# Plot the trajectory\n",
    "for i in range(num_particles):\n",
    "    plt.plot(trajectory[:, i], label=f'Particle {i + 1}')"
   ]
  },
  {
   "cell_type": "code",
   "execution_count": null,
   "metadata": {},
   "outputs": [],
   "source": []
  }
 ],
 "metadata": {
  "kernelspec": {
   "display_name": "env1",
   "language": "python",
   "name": "python3"
  },
  "language_info": {
   "codemirror_mode": {
    "name": "ipython",
    "version": 3
   },
   "file_extension": ".py",
   "mimetype": "text/x-python",
   "name": "python",
   "nbconvert_exporter": "python",
   "pygments_lexer": "ipython3",
   "version": "3.12.1"
  }
 },
 "nbformat": 4,
 "nbformat_minor": 2
}
