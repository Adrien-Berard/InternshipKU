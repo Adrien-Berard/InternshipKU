{
 "cells": [
  {
   "cell_type": "markdown",
   "metadata": {},
   "source": [
    "## Molecular dynamics simulation of the paper of Kim \n",
    "Skjegstad, L. E. J., Nickels, J. F., Sneppen, K. & Kirkegaard, J. B. Epigenetic switching with asymmetric bridging interactions. Biophysical Journal 122, 2421–2429 (2023).\n"
   ]
  },
  {
   "cell_type": "code",
   "execution_count": 12,
   "metadata": {},
   "outputs": [],
   "source": [
    "from matplotlib import pyplot as plt\n",
    "from matplotlib import cm\n",
    "import numpy as np\n",
    "import pandas as pd\n",
    "#from scipy.optimize import fsolve\n",
    "from scipy.special import lambertw\n",
    "import gsd.hoomd"
   ]
  },
  {
   "cell_type": "markdown",
   "metadata": {},
   "source": [
    "\"The dynamics of the chromatin is described by an over-damped Langevin equation of the form: \n",
    "$$ d\\textbf{X}_i(t) = - \\nabla_{X_i} U (\\textbf{X}(t)) dt + d\\textbf{W}_i(t) $$\n",
    "where $\\textbf{X}_i$ is the position of the i’th monomer, U is the aggregate potential function, and $\\textbf{W}$ is a Wiener process satisfying $<\\textbf{W}_i(t) , \\textbf{W}_i(t')> = 3\\sigma^2\\delta(t-t')$, with $\\sigma$ setting the diffusive noise scale.\""
   ]
  },
  {
   "cell_type": "markdown",
   "metadata": {},
   "source": [
    "\"The potential U depends on the positions and states of all other monomers : \n",
    "$$ U \\propto [\\sum_{ij} e^{-4r_{ij}/{l_0}} - \\sum_{ij  \\in  bonds} e^{-4br_{ij}/{l_0}}]$$\n",
    "\n",
    "Here, the terms in the first summation account for repulsion between all monomers, and the terms in the second summation account for attraction for the S-state monomers that form bonds. For bonded monomers, the two exponential terms create a potential well with an equilibrium distance equal to $l_0/2$, ensured by setting $b = - LambertW(-2e^{-2})/2$. We note that U, as specified here, does not constitute the total potential, as, again, adjacent monomers in the polymer are constrained to be distance $l_0$ from one another.\""
   ]
  },
  {
   "cell_type": "markdown",
   "metadata": {},
   "source": [
    "As in the article we will use the Euler-Marayuma algorithm to resolve the 1st equation"
   ]
  },
  {
   "cell_type": "code",
   "execution_count": 13,
   "metadata": {},
   "outputs": [],
   "source": [
    "def compute_b_lambertw(l0):\n",
    "    b_solution = lambertw(-2 * np.exp(-2)) / 2\n",
    "    return b_solution.real"
   ]
  },
  {
   "cell_type": "code",
   "execution_count": 14,
   "metadata": {},
   "outputs": [],
   "source": [
    "def potential_energy(positions, bonds, l0, b):\n",
    "    repulsion_term = np.sum(np.exp(-4 * np.abs(positions[:, np.newaxis] - positions) / l0), dtype=np.float128)\n",
    "    bonding_term = np.sum(np.exp(-4 * b * np.abs(positions[:, np.newaxis] - positions[bonds]) / l0), dtype=np.float128)\n",
    "    #\n",
    "    return repulsion_term - bonding_term"
   ]
  },
  {
   "cell_type": "code",
   "execution_count": 15,
   "metadata": {},
   "outputs": [],
   "source": [
    "def potential_gradient(positions, bonds, l0, b):\n",
    "    repulsion_gradient = -4 * np.sum(np.sign(positions[:, np.newaxis] - positions) *\n",
    "                                     np.exp(-4 * np.abs(positions[:, np.newaxis] - positions) / l0) / l0, axis=1, dtype=np.float128)\n",
    "\n",
    "    bonding_gradient = 4 * b * np.sum(np.sign(positions[:, np.newaxis] - positions[bonds[:, 0]]) *\n",
    "                                          np.exp(-4 * b * np.abs(positions[:, np.newaxis] - positions[bonds[:, 0]]) / l0) / l0, axis=1, dtype=np.float128)\n",
    "\n",
    "    #bonding_gradient = 0\n",
    "    return repulsion_gradient - bonding_gradient\n"
   ]
  },
  {
   "cell_type": "code",
   "execution_count": 16,
   "metadata": {},
   "outputs": [],
   "source": [
    "# Function for Langevin dynamics simulation\n",
    "def langevin_dynamics(positions, bonds, l0, b, diffusion_coefficient, time_step, num_steps):\n",
    "    num_particles = len(positions)\n",
    "    trajectory = [positions.copy()]\n",
    "\n",
    "    for _ in range(num_steps):\n",
    "        # Compute the noise term\n",
    "        noise = np.random.normal(0, np.sqrt(6 * diffusion_coefficient * time_step), (num_particles,3))\n",
    "\n",
    "        # Compute the potential gradient\n",
    "        grad_potential = potential_gradient(positions, bonds, l0, b)\n",
    "\n",
    "        # Update positions using overdamped Langevin dynamics\n",
    "        positions = positions - grad_potential * time_step + noise\n",
    "\n",
    "        # Store the updated positions in the trajectory\n",
    "        trajectory.append(positions.copy())\n",
    "\n",
    "    return np.array(trajectory)\n"
   ]
  },
  {
   "cell_type": "code",
   "execution_count": 17,
   "metadata": {},
   "outputs": [],
   "source": [
    "def linear_initial_positions(num_particles,dimension):\n",
    "    startpts = np.array([1, 1, 1])\n",
    "    endpts = np.array(dimension*[num_particles])\n",
    "\n",
    "    return np.linspace(start=startpts, stop=endpts, num=num_particles)\n"
   ]
  },
  {
   "cell_type": "code",
   "execution_count": 53,
   "metadata": {},
   "outputs": [
    {
     "ename": "ValueError",
     "evalue": "cannot reshape array of size 18 into shape (0,2)",
     "output_type": "error",
     "traceback": [
      "\u001b[0;31m---------------------------------------------------------------------------\u001b[0m",
      "\u001b[0;31mValueError\u001b[0m                                Traceback (most recent call last)",
      "Cell \u001b[0;32mIn[53], line 33\u001b[0m\n\u001b[1;32m     30\u001b[0m s\u001b[38;5;241m.\u001b[39mbonds\u001b[38;5;241m.\u001b[39mgroup \u001b[38;5;241m=\u001b[39m bonds\n\u001b[1;32m     32\u001b[0m \u001b[38;5;66;03m# Append the frame to the GSD file\u001b[39;00m\n\u001b[0;32m---> 33\u001b[0m \u001b[43mf\u001b[49m\u001b[38;5;241;43m.\u001b[39;49m\u001b[43mappend\u001b[49m\u001b[43m(\u001b[49m\u001b[43ms\u001b[49m\u001b[43m)\u001b[49m\n\u001b[1;32m     35\u001b[0m \u001b[38;5;66;03m# Write bond information\u001b[39;00m\n\u001b[1;32m     36\u001b[0m \u001b[38;5;28;01mif\u001b[39;00m step \u001b[38;5;241m==\u001b[39m \u001b[38;5;241m0\u001b[39m:\n",
      "File \u001b[0;32m~/opt/anaconda3/envs/myenv2/lib/python3.12/site-packages/gsd/hoomd.py:742\u001b[0m, in \u001b[0;36mHOOMDTrajectory.append\u001b[0;34m(self, frame)\u001b[0m\n\u001b[1;32m    728\u001b[0m \u001b[38;5;250m\u001b[39m\u001b[38;5;124;03m\"\"\"Append a frame to a hoomd gsd file.\u001b[39;00m\n\u001b[1;32m    729\u001b[0m \n\u001b[1;32m    730\u001b[0m \u001b[38;5;124;03mArgs:\u001b[39;00m\n\u001b[0;32m   (...)\u001b[0m\n\u001b[1;32m    738\u001b[0m \u001b[38;5;124;03meither from the value at the initial frame or the default value.\u001b[39;00m\n\u001b[1;32m    739\u001b[0m \u001b[38;5;124;03m\"\"\"\u001b[39;00m\n\u001b[1;32m    740\u001b[0m logger\u001b[38;5;241m.\u001b[39mdebug(\u001b[38;5;124m'\u001b[39m\u001b[38;5;124mAppending frame to hoomd trajectory: \u001b[39m\u001b[38;5;124m'\u001b[39m \u001b[38;5;241m+\u001b[39m \u001b[38;5;28mstr\u001b[39m(\u001b[38;5;28mself\u001b[39m\u001b[38;5;241m.\u001b[39mfile))\n\u001b[0;32m--> 742\u001b[0m \u001b[43mframe\u001b[49m\u001b[38;5;241;43m.\u001b[39;49m\u001b[43mvalidate\u001b[49m\u001b[43m(\u001b[49m\u001b[43m)\u001b[49m\n\u001b[1;32m    744\u001b[0m \u001b[38;5;66;03m# want the initial frame specified as a reference to detect if chunks\u001b[39;00m\n\u001b[1;32m    745\u001b[0m \u001b[38;5;66;03m# need to be written\u001b[39;00m\n\u001b[1;32m    746\u001b[0m \u001b[38;5;28;01mif\u001b[39;00m \u001b[38;5;28mself\u001b[39m\u001b[38;5;241m.\u001b[39m_initial_frame \u001b[38;5;129;01mis\u001b[39;00m \u001b[38;5;28;01mNone\u001b[39;00m \u001b[38;5;129;01mand\u001b[39;00m \u001b[38;5;28mlen\u001b[39m(\u001b[38;5;28mself\u001b[39m) \u001b[38;5;241m>\u001b[39m \u001b[38;5;241m0\u001b[39m:\n",
      "File \u001b[0;32m~/opt/anaconda3/envs/myenv2/lib/python3.12/site-packages/gsd/hoomd.py:468\u001b[0m, in \u001b[0;36mFrame.validate\u001b[0;34m(self)\u001b[0m\n\u001b[1;32m    466\u001b[0m \u001b[38;5;28mself\u001b[39m\u001b[38;5;241m.\u001b[39mconfiguration\u001b[38;5;241m.\u001b[39mvalidate()\n\u001b[1;32m    467\u001b[0m \u001b[38;5;28mself\u001b[39m\u001b[38;5;241m.\u001b[39mparticles\u001b[38;5;241m.\u001b[39mvalidate()\n\u001b[0;32m--> 468\u001b[0m \u001b[38;5;28;43mself\u001b[39;49m\u001b[38;5;241;43m.\u001b[39;49m\u001b[43mbonds\u001b[49m\u001b[38;5;241;43m.\u001b[39;49m\u001b[43mvalidate\u001b[49m\u001b[43m(\u001b[49m\u001b[43m)\u001b[49m\n\u001b[1;32m    469\u001b[0m \u001b[38;5;28mself\u001b[39m\u001b[38;5;241m.\u001b[39mangles\u001b[38;5;241m.\u001b[39mvalidate()\n\u001b[1;32m    470\u001b[0m \u001b[38;5;28mself\u001b[39m\u001b[38;5;241m.\u001b[39mdihedrals\u001b[38;5;241m.\u001b[39mvalidate()\n",
      "File \u001b[0;32m~/opt/anaconda3/envs/myenv2/lib/python3.12/site-packages/gsd/hoomd.py:338\u001b[0m, in \u001b[0;36mBondData.validate\u001b[0;34m(self)\u001b[0m\n\u001b[1;32m    336\u001b[0m \u001b[38;5;28;01mif\u001b[39;00m \u001b[38;5;28mself\u001b[39m\u001b[38;5;241m.\u001b[39mgroup \u001b[38;5;129;01mis\u001b[39;00m \u001b[38;5;129;01mnot\u001b[39;00m \u001b[38;5;28;01mNone\u001b[39;00m:\n\u001b[1;32m    337\u001b[0m     \u001b[38;5;28mself\u001b[39m\u001b[38;5;241m.\u001b[39mgroup \u001b[38;5;241m=\u001b[39m numpy\u001b[38;5;241m.\u001b[39mascontiguousarray(\u001b[38;5;28mself\u001b[39m\u001b[38;5;241m.\u001b[39mgroup, dtype\u001b[38;5;241m=\u001b[39mnumpy\u001b[38;5;241m.\u001b[39mint32)\n\u001b[0;32m--> 338\u001b[0m     \u001b[38;5;28mself\u001b[39m\u001b[38;5;241m.\u001b[39mgroup \u001b[38;5;241m=\u001b[39m \u001b[38;5;28;43mself\u001b[39;49m\u001b[38;5;241;43m.\u001b[39;49m\u001b[43mgroup\u001b[49m\u001b[38;5;241;43m.\u001b[39;49m\u001b[43mreshape\u001b[49m\u001b[43m(\u001b[49m\u001b[43m[\u001b[49m\u001b[38;5;28;43mself\u001b[39;49m\u001b[38;5;241;43m.\u001b[39;49m\u001b[43mN\u001b[49m\u001b[43m,\u001b[49m\u001b[43m \u001b[49m\u001b[38;5;28;43mself\u001b[39;49m\u001b[38;5;241;43m.\u001b[39;49m\u001b[43mM\u001b[49m\u001b[43m]\u001b[49m\u001b[43m)\u001b[49m\n\u001b[1;32m    340\u001b[0m \u001b[38;5;28;01mif\u001b[39;00m \u001b[38;5;28mself\u001b[39m\u001b[38;5;241m.\u001b[39mtypes \u001b[38;5;129;01mis\u001b[39;00m \u001b[38;5;129;01mnot\u001b[39;00m \u001b[38;5;28;01mNone\u001b[39;00m \u001b[38;5;129;01mand\u001b[39;00m (\u001b[38;5;129;01mnot\u001b[39;00m \u001b[38;5;28mlen\u001b[39m(\u001b[38;5;28mset\u001b[39m(\u001b[38;5;28mself\u001b[39m\u001b[38;5;241m.\u001b[39mtypes)) \u001b[38;5;241m==\u001b[39m \u001b[38;5;28mlen\u001b[39m(\u001b[38;5;28mself\u001b[39m\u001b[38;5;241m.\u001b[39mtypes)):\n\u001b[1;32m    341\u001b[0m     msg \u001b[38;5;241m=\u001b[39m \u001b[38;5;124m'\u001b[39m\u001b[38;5;124mType names must be unique.\u001b[39m\u001b[38;5;124m'\u001b[39m\n",
      "\u001b[0;31mValueError\u001b[0m: cannot reshape array of size 18 into shape (0,2)"
     ]
    }
   ],
   "source": [
    "# Parameters\n",
    "dimension = 3\n",
    "num_particles = 10\n",
    "diffusion_coefficient = 1.0\n",
    "time_step = 1e-4\n",
    "num_steps = 1000\n",
    "l0 = 1.0  # equilibrium distance\n",
    "b = compute_b_lambertw(l0)\n",
    "\n",
    "# Example bonded pairs\n",
    "bonds = np.array([[i, (i + 1) % num_particles] for i in range(num_particles - 1)])\n",
    "\n",
    "# Initial positions (you can set these according to your problem)\n",
    "initial_positions = linear_initial_positions(num_particles, dimension)\n",
    "positions = initial_positions\n",
    "\n",
    "# Run Langevin dynamics simulation\n",
    "trajectory = langevin_dynamics(initial_positions, bonds, l0, b, diffusion_coefficient, time_step, num_steps)\n",
    "\n",
    "# Save the trajectory to a GSD file\n",
    "with gsd.hoomd.open(name='langevin_trajectory.gsd', mode='w') as f:\n",
    "    for step, frame in enumerate(trajectory):\n",
    "        # Create a HOOMD-blue frame\n",
    "        s = gsd.hoomd.Frame()\n",
    "        s.particles.N = num_particles\n",
    "        s.particles.position = frame\n",
    "        s.particles.types = [f\"A{i}\" for i in range(num_particles)]  # Unique type names\n",
    "\n",
    "        # Set up bond information\n",
    "        s.bonds.group = bonds\n",
    "\n",
    "        # Append the frame to the GSD file\n",
    "        f.append(s)\n",
    "\n",
    "        # Write bond information\n",
    "        if step == 0:\n",
    "            f.append(bonds={'Bonds': bonds})"
   ]
  },
  {
   "cell_type": "code",
   "execution_count": null,
   "metadata": {},
   "outputs": [],
   "source": []
  }
 ],
 "metadata": {
  "kernelspec": {
   "display_name": "env1",
   "language": "python",
   "name": "python3"
  },
  "language_info": {
   "codemirror_mode": {
    "name": "ipython",
    "version": 3
   },
   "file_extension": ".py",
   "mimetype": "text/x-python",
   "name": "python",
   "nbconvert_exporter": "python",
   "pygments_lexer": "ipython3",
   "version": "3.12.1"
  }
 },
 "nbformat": 4,
 "nbformat_minor": 2
}
