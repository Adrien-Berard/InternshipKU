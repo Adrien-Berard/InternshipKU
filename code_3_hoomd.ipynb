{
 "cells": [
  {
   "cell_type": "code",
   "execution_count": 24,
   "metadata": {},
   "outputs": [],
   "source": [
    "import gsd.hoomd\n",
    "import numpy as np\n",
    "import gsd.pygsd\n",
    "import hoomd\n",
    "import matplotlib"
   ]
  },
  {
   "cell_type": "code",
   "execution_count": 25,
   "metadata": {},
   "outputs": [],
   "source": [
    "%matplotlib inline\n",
    "matplotlib.style.use('ggplot')\n",
    "import matplotlib_inline\n",
    "\n",
    "matplotlib_inline.backend_inline.set_matplotlib_formats('svg')"
   ]
  },
  {
   "cell_type": "code",
   "execution_count": 13,
   "metadata": {},
   "outputs": [],
   "source": [
    "frame = gsd.hoomd.Frame()\n",
    "frame.particles.N = 10\n",
    "frame.particles.types = ['A','M','U']\n",
    "frame.particles.type = np.random.randint(0,len(frame.particles.types),frame.particles.N)\n",
    "frame.particles.position = np.random.randint(0, high=frame.particles.N, size=(frame.particles.N,3), dtype=int)\n"
   ]
  },
  {
   "cell_type": "code",
   "execution_count": 14,
   "metadata": {},
   "outputs": [],
   "source": [
    "f = gsd.hoomd.open(name='file.gsd', mode='w')"
   ]
  },
  {
   "cell_type": "code",
   "execution_count": 15,
   "metadata": {},
   "outputs": [],
   "source": [
    "def create_frame(i):\n",
    "\n",
    "    frame = gsd.hoomd.Frame()\n",
    "\n",
    "    frame.configuration.step = i\n",
    "\n",
    "    return frame\n",
    "\n",
    "\n",
    "f = gsd.hoomd.open(name='example.gsd', mode='w')\n",
    "\n",
    "f.extend( (create_frame(i) for i in range(10)) )\n",
    "\n",
    "f.append( create_frame(10) )"
   ]
  },
  {
   "cell_type": "code",
   "execution_count": 16,
   "metadata": {},
   "outputs": [
    {
     "ename": "AttributeError",
     "evalue": "'HOOMDTrajectory' object has no attribute 'particles'",
     "output_type": "error",
     "traceback": [
      "\u001b[0;31m---------------------------------------------------------------------------\u001b[0m",
      "\u001b[0;31mAttributeError\u001b[0m                            Traceback (most recent call last)",
      "Cell \u001b[0;32mIn[16], line 6\u001b[0m\n\u001b[1;32m      2\u001b[0m f \u001b[38;5;241m=\u001b[39m gsd\u001b[38;5;241m.\u001b[39mpygsd\u001b[38;5;241m.\u001b[39mGSDFile(\u001b[38;5;28mopen\u001b[39m(\u001b[38;5;124m'\u001b[39m\u001b[38;5;124mexample.gsd\u001b[39m\u001b[38;5;124m'\u001b[39m, \u001b[38;5;124m'\u001b[39m\u001b[38;5;124mrb\u001b[39m\u001b[38;5;124m'\u001b[39m))\n\u001b[1;32m      4\u001b[0m trajectory \u001b[38;5;241m=\u001b[39m gsd\u001b[38;5;241m.\u001b[39mhoomd\u001b[38;5;241m.\u001b[39mHOOMDTrajectory(f)\n\u001b[0;32m----> 6\u001b[0m \u001b[43mtrajectory\u001b[49m\u001b[38;5;241;43m.\u001b[39;49m\u001b[43mparticles\u001b[49m\u001b[38;5;241m.\u001b[39mposition\n",
      "\u001b[0;31mAttributeError\u001b[0m: 'HOOMDTrajectory' object has no attribute 'particles'"
     ]
    }
   ],
   "source": [
    "# Python reading function\n",
    "f = gsd.pygsd.GSDFile(open('example.gsd', 'rb'))\n",
    "\n",
    "trajectory = gsd.hoomd.HOOMDTrajectory(f)\n",
    "\n",
    "trajectory.particles.position"
   ]
  },
  {
   "cell_type": "code",
   "execution_count": 26,
   "metadata": {},
   "outputs": [],
   "source": [
    "integrator = hoomd.md.Integrator(dt=0.005)"
   ]
  },
  {
   "cell_type": "code",
   "execution_count": 27,
   "metadata": {},
   "outputs": [
    {
     "data": {
      "text/plain": [
       "[]"
      ]
     },
     "execution_count": 27,
     "metadata": {},
     "output_type": "execute_result"
    }
   ],
   "source": [
    "integrator.forces[:]"
   ]
  },
  {
   "cell_type": "code",
   "execution_count": 28,
   "metadata": {},
   "outputs": [],
   "source": [
    "def potential_energy(positions, bonds, l0, b):\n",
    "    repulsion_term = np.sum(np.exp(-4 * np.abs(positions[:, np.newaxis] - positions) / l0), dtype=np.float128)\n",
    "    bonding_term = np.sum(np.exp(-4 * b * np.abs(positions[:, np.newaxis] - positions[bonds]) / l0), dtype=np.float128)\n",
    "    #\n",
    "    return repulsion_term - bonding_term"
   ]
  },
  {
   "cell_type": "code",
   "execution_count": 29,
   "metadata": {},
   "outputs": [],
   "source": [
    "cell = hoomd.md.nlist.Cell(buffer=0.4)"
   ]
  },
  {
   "cell_type": "code",
   "execution_count": null,
   "metadata": {},
   "outputs": [],
   "source": [
    "exp_potential = hoomd.md.pair.Table(nlist = cell,)"
   ]
  }
 ],
 "metadata": {
  "kernelspec": {
   "display_name": "myenv2",
   "language": "python",
   "name": "python3"
  },
  "language_info": {
   "codemirror_mode": {
    "name": "ipython",
    "version": 3
   },
   "file_extension": ".py",
   "mimetype": "text/x-python",
   "name": "python",
   "nbconvert_exporter": "python",
   "pygments_lexer": "ipython3",
   "version": "3.12.1"
  }
 },
 "nbformat": 4,
 "nbformat_minor": 2
}
