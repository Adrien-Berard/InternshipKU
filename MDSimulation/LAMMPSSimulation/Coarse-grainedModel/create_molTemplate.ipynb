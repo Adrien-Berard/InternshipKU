{
 "cells": [
  {
   "cell_type": "code",
   "execution_count": 1,
   "metadata": {},
   "outputs": [],
   "source": [
    "import numpy as np\n",
    "f = open('molTemplate3.txt','w')\n",
    "f.write('# This is a molecule template for molecule 1\\n\\n')\n",
    "n_atoms = 6\n",
    "n_bonds = n_atoms - 1\n",
    "f.write(str(n_atoms) + ' atoms\\n')\n",
    "f.write(str(n_bonds) + ' bonds\\n\\n')\n",
    "f.write('Coords\\n\\n')\n",
    "for atom in range(n_atoms):\n",
    "    f.write(str(atom + 1) + ' ' + str(np.random.rand()) + ' ' + str(np.random.rand()) + ' ' + str(np.random.rand()) + '\\n')\n",
    "f.write('\\nTypes\\n\\n')\n",
    "atom_types = np.random.choice([1,2,3],n_atoms)\n",
    "for atom in range(n_atoms):\n",
    "    f.write(f'{atom + 1} {atom_types[atom]} \\n')\n",
    "f.write('\\nBonds\\n\\n')\n",
    "for i in range(n_bonds):\n",
    "    if atom_types[i] == 3 and atom_types[i+1] == 3:\n",
    "        type = 2\n",
    "        f.write(f'  {i+1}  {type}  {i+1}  {i+2}\\n')\n",
    "    else:\n",
    "        type = 1\n",
    "        f.write(f'  {i+1}  {type}  {i+1}  {i+2}\\n')\n",
    "f.close()\n"
   ]
  },
  {
   "cell_type": "code",
   "execution_count": null,
   "metadata": {},
   "outputs": [],
   "source": []
  }
 ],
 "metadata": {
  "kernelspec": {
   "display_name": "myenv2",
   "language": "python",
   "name": "python3"
  },
  "language_info": {
   "codemirror_mode": {
    "name": "ipython",
    "version": 3
   },
   "file_extension": ".py",
   "mimetype": "text/x-python",
   "name": "python",
   "nbconvert_exporter": "python",
   "pygments_lexer": "ipython3",
   "version": "3.12.1"
  }
 },
 "nbformat": 4,
 "nbformat_minor": 2
}
