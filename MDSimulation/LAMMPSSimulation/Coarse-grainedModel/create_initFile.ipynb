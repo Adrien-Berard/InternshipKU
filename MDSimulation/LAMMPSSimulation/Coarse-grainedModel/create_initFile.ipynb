{
 "cells": [
  {
   "cell_type": "code",
   "execution_count": 1,
   "metadata": {},
   "outputs": [],
   "source": [
    "import numpy as np\n",
    "f = open('InitialFile.txt','w')\n",
    "f.write('# Initialisation file of the particles\\n\\n')\n",
    "n_atoms = 6\n",
    "n_bonds = n_atoms - 1\n",
    "n_angles = n_bonds - 1\n",
    "n_dihedral = n_angles - 1\n",
    "f.write(f'{n_atoms}  atoms\\n')\n",
    "f.write(f'{n_bonds}  bonds\\n')\n",
    "f.write(f'{n_angles}  angles\\n')\n",
    "f.write(f'{n_dihedral}  dihedrals\\n\\n')\n",
    "f.write('3  atom types\\n')\n",
    "f.write('2  bond types\\n')\n",
    "f.write('2  angle types\\n')\n",
    "f.write('2  dihedral types\\n\\n')\n",
    "f.write('0.0000   158.5000 xlo xhi \\n0.0000   158.5000 ylo yhi \\n0.0000   158.5000 zlo zhi\\n\\n')\n",
    "f.write('Masses\\n\\n')\n",
    "f.write('1    14.02\\n')\n",
    "f.write('2    14.02\\n')\n",
    "f.write('3    14.02\\n\\n')\n",
    "atoms_types = np.random.randint(1,4,n_atoms)\n",
    "atoms_types\n",
    "f.write('Atoms # atomic\\n\\n')\n",
    "#for i in range(n_atoms):\n",
    "    #f.write(f'  {i+1}  1  {atoms_types[i]}  {i*1.5}  {i*1.5}  {i*1.5}\\n')\n",
    "f.write('  1  1  1  0.0  0.0  0.0\\n')\n",
    "f.write('  2  1  2  1.5  1.5  1.5\\n')\n",
    "f.write('  3  1  3  3.0  3.0  3.0\\n')\n",
    "f.write('  4  1  3  4.5  4.5  4.5\\n')\n",
    "f.write('  5  1  2  6.0  6.0  6.0\\n')\n",
    "f.write('  6  1  1  7.5  7.5  7.5\\n\\n')\n",
    "\n",
    "\n",
    "f.write('\\nBonds\\n\\n')\n",
    "for i in range(n_bonds):\n",
    "    if atoms_types[i] == 3 and atoms_types[i+1] == 3:\n",
    "        type = 2\n",
    "        f.write(f'  {i+1}  {type}  {i+1}  {i+2}\\n')\n",
    "    else:\n",
    "        type = 1\n",
    "        f.write(f'  {i+1}  {type}  {i+1}  {i+2}\\n')\n",
    "f.write('\\nAngles\\n\\n')\n",
    "for i in range(n_angles):\n",
    "    if atoms_types[i] == 3 and atoms_types[i+1] == 3 and atoms_types[i+2] == 3:\n",
    "        type = 2\n",
    "        f.write(f'  {i+1}  {type}  {i+1}  {i+2}  {i+3}\\n')\n",
    "    else:\n",
    "        type = 1\n",
    "        f.write(f'  {i+1}  {type}  {i+1}  {i+2}  {i+3}\\n') \n",
    "f.write('\\nDihedrals\\n\\n')\n",
    "for i in range(n_dihedral):\n",
    "    if atoms_types[i] == 3 and atoms_types[i+1] == 3 and atoms_types[i+2] == 3 and atoms_types[i+3] == 3:\n",
    "        type = 2\n",
    "        f.write(f'  {i+1}  {type}  {i+1}  {i+2}  {i+3}  {i+4}\\n')\n",
    "    else:\n",
    "        type = 1\n",
    "        f.write(f'  {i+1}  {type}  {i+1}  {i+2}  {i+3}  {i+4}\\n')\n",
    "f.close()\n",
    "\n"
   ]
  },
  {
   "cell_type": "code",
   "execution_count": null,
   "metadata": {},
   "outputs": [],
   "source": []
  }
 ],
 "metadata": {
  "kernelspec": {
   "display_name": "myenv2",
   "language": "python",
   "name": "python3"
  },
  "language_info": {
   "codemirror_mode": {
    "name": "ipython",
    "version": 3
   },
   "file_extension": ".py",
   "mimetype": "text/x-python",
   "name": "python",
   "nbconvert_exporter": "python",
   "pygments_lexer": "ipython3",
   "version": "3.12.1"
  }
 },
 "nbformat": 4,
 "nbformat_minor": 2
}
