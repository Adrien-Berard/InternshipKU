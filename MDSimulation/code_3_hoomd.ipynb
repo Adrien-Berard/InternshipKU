{
 "cells": [
  {
   "cell_type": "code",
   "execution_count": 169,
   "metadata": {},
   "outputs": [],
   "source": [
    "import gsd.hoomd\n",
    "import numpy as np\n",
    "import gsd.pygsd\n",
    "import hoomd\n",
    "import matplotlib\n",
    "import math\n",
    "import itertools\n",
    "import os\n",
    "import fresnel\n",
    "import IPython\n",
    "import packaging.version"
   ]
  },
  {
   "cell_type": "code",
   "execution_count": 170,
   "metadata": {},
   "outputs": [],
   "source": [
    "device = fresnel.Device()\n",
    "tracer = fresnel.tracer.Path(device=device, w=300, h=300)\n",
    "\n",
    "FRESNEL_MIN_VERSION = packaging.version.parse('0.13.0')\n",
    "FRESNEL_MAX_VERSION = packaging.version.parse('0.14.0')\n",
    "\n",
    "\n",
    "def render(position, orientation, L):\n",
    "    if (\n",
    "        'version' not in dir(fresnel)\n",
    "        or packaging.version.parse(fresnel.version.version) < FRESNEL_MIN_VERSION\n",
    "        or packaging.version.parse(fresnel.version.version) >= FRESNEL_MAX_VERSION\n",
    "    ):\n",
    "        warnings.warn(\n",
    "            f'Unsupported fresnel version {fresnel.version.version} - expect errors.'\n",
    "        )\n",
    "    vertices = [\n",
    "        (-0.5, 0, 0),\n",
    "        (0.5, 0, 0),\n",
    "        (0, -0.5, 0),\n",
    "        (0, 0.5, 0),\n",
    "        (0, 0, -0.5),\n",
    "        (0, 0, 0.5),\n",
    "    ]\n",
    "    poly_info = fresnel.util.convex_polyhedron_from_vertices(vertices)\n",
    "\n",
    "    scene = fresnel.Scene(device)\n",
    "    geometry = fresnel.geometry.ConvexPolyhedron(scene, poly_info, N=len(position))\n",
    "    geometry.material = fresnel.material.Material(\n",
    "        color=fresnel.color.linear([0.01, 0.74, 0.26]), roughness=0.5\n",
    "    )\n",
    "    geometry.position[:] = position[:]\n",
    "    geometry.orientation[:] = orientation[:]\n",
    "    geometry.outline_width = 0.01\n",
    "    fresnel.geometry.Box(scene, [L, L, L, 0, 0, 0], box_radius=0.02)\n",
    "\n",
    "    scene.lights = [\n",
    "        fresnel.light.Light(direction=(0, 0, 1), color=(0.8, 0.8, 0.8), theta=math.pi),\n",
    "        fresnel.light.Light(\n",
    "            direction=(1, 1, 1), color=(1.1, 1.1, 1.1), theta=math.pi / 3\n",
    "        ),\n",
    "    ]\n",
    "    scene.camera = fresnel.camera.Orthographic(\n",
    "        position=(L * 2, L, L * 2), look_at=(0, 0, 0), up=(0, 1, 0), height=L * 1.4 + 1\n",
    "    )\n",
    "    scene.background_color = (1, 1, 1)\n",
    "    scene.background_alpha = 1\n",
    "    return IPython.display.Image(tracer.sample(scene, samples=500)._repr_png_())\n"
   ]
  },
  {
   "cell_type": "code",
   "execution_count": 171,
   "metadata": {},
   "outputs": [],
   "source": [
    "%matplotlib inline\n",
    "matplotlib.style.use('ggplot')\n",
    "import matplotlib_inline\n",
    "\n",
    "matplotlib_inline.backend_inline.set_matplotlib_formats('svg')"
   ]
  },
  {
   "cell_type": "code",
   "execution_count": 172,
   "metadata": {},
   "outputs": [],
   "source": [
    "f = gsd.hoomd.open(name='file.gsd', mode='w')"
   ]
  },
  {
   "cell_type": "code",
   "execution_count": 173,
   "metadata": {},
   "outputs": [],
   "source": [
    "def create_frame(i):\n",
    "\n",
    "    frame = gsd.hoomd.Frame()\n",
    "\n",
    "    frame.configuration.step = i\n",
    "\n",
    "    return frame\n",
    "\n",
    "\n",
    "f = gsd.hoomd.open(name='example.gsd', mode='w')\n",
    "\n",
    "f.extend( (create_frame(i) for i in range(10)) )\n",
    "\n",
    "f.append( create_frame(10) )"
   ]
  },
  {
   "cell_type": "code",
   "execution_count": 174,
   "metadata": {},
   "outputs": [],
   "source": [
    "integrator = hoomd.md.Integrator(dt=0.005)"
   ]
  },
  {
   "cell_type": "code",
   "execution_count": 175,
   "metadata": {},
   "outputs": [
    {
     "data": {
      "text/plain": [
       "[]"
      ]
     },
     "execution_count": 175,
     "metadata": {},
     "output_type": "execute_result"
    }
   ],
   "source": [
    "integrator.forces[:]"
   ]
  },
  {
   "cell_type": "code",
   "execution_count": 176,
   "metadata": {},
   "outputs": [],
   "source": [
    "def potential_gradient(positions, bonds, l0, b):\n",
    "    repulsion_gradient = -4 * np.sum(np.sign(positions[:, np.newaxis] - positions) *\n",
    "                                     np.exp(-4 * np.abs(positions[:, np.newaxis] - positions) / l0) / l0, axis=1, dtype=np.float128)\n",
    "\n",
    "    bonding_gradient = 4 * b * np.sum(np.sign(positions[:, np.newaxis] - positions[bonds[:, 0]]) *\n",
    "                                          np.exp(-4 * b * np.abs(positions[:, np.newaxis] - positions[bonds[:, 0]]) / l0) / l0, axis=1, dtype=np.float128)\n",
    "\n",
    "    #bonding_gradient = 0\n",
    "    return repulsion_gradient - bonding_gradient"
   ]
  },
  {
   "cell_type": "code",
   "execution_count": 177,
   "metadata": {},
   "outputs": [],
   "source": [
    "cell = hoomd.md.nlist.Cell(buffer=0.4)"
   ]
  },
  {
   "cell_type": "code",
   "execution_count": 178,
   "metadata": {},
   "outputs": [],
   "source": [
    "exp_potential = hoomd.md.pair.Table(nlist = cell)"
   ]
  },
  {
   "cell_type": "code",
   "execution_count": 179,
   "metadata": {},
   "outputs": [],
   "source": [
    "integrator.forces.append(exp_potential)"
   ]
  },
  {
   "cell_type": "code",
   "execution_count": 180,
   "metadata": {},
   "outputs": [],
   "source": [
    "nvt = hoomd.md.methods.ConstantVolume(\n",
    "    filter=hoomd.filter.All(), thermostat=hoomd.md.methods.thermostats.Bussi(kT=1.5)\n",
    ")"
   ]
  },
  {
   "cell_type": "code",
   "execution_count": 181,
   "metadata": {},
   "outputs": [],
   "source": [
    "integrator.methods.append(nvt)"
   ]
  },
  {
   "cell_type": "code",
   "execution_count": 182,
   "metadata": {},
   "outputs": [],
   "source": [
    "frame = gsd.hoomd.Frame()\n",
    "frame.particles.N = 10\n",
    "frame.particles.types = ['A','M','U']\n",
    "frame.particles.typeid = np.random.randint(0,len(frame.particles.types),frame.particles.N)\n",
    "frame.particles.position = np.random.randint(0, high=frame.particles.N, size=(frame.particles.N,3), dtype=int)\n",
    "frame.configuration.box = [100, 100, 100, 0, 0, 0]"
   ]
  },
  {
   "cell_type": "code",
   "execution_count": 183,
   "metadata": {},
   "outputs": [],
   "source": [
    "os.remove('test.gsd')\n",
    "with gsd.hoomd.open(name = 'test.gsd',mode = 'x') as f:\n",
    "    f.append(frame)"
   ]
  },
  {
   "cell_type": "code",
   "execution_count": 184,
   "metadata": {},
   "outputs": [],
   "source": [
    "cpu = hoomd.device.CPU()\n",
    "simulation = hoomd.Simulation(device = cpu, seed = 1)\n",
    "simulation.create_state_from_gsd(filename = 'test.gsd')"
   ]
  },
  {
   "cell_type": "code",
   "execution_count": 185,
   "metadata": {},
   "outputs": [],
   "source": [
    "simulation.operations.integrator = integrator"
   ]
  },
  {
   "cell_type": "code",
   "execution_count": 186,
   "metadata": {},
   "outputs": [
    {
     "data": {
      "text/plain": [
       "array([[0., 0., 0.],\n",
       "       [0., 0., 0.],\n",
       "       [0., 0., 0.],\n",
       "       [0., 0., 0.],\n",
       "       [0., 0., 0.]])"
      ]
     },
     "execution_count": 186,
     "metadata": {},
     "output_type": "execute_result"
    }
   ],
   "source": [
    "snapshot = simulation.state.get_snapshot()\n",
    "snapshot.particles.velocity[0:5]"
   ]
  },
  {
   "cell_type": "code",
   "execution_count": 187,
   "metadata": {},
   "outputs": [],
   "source": [
    "simulation.state.thermalize_particle_momenta(filter=hoomd.filter.All(), kT=1.5)"
   ]
  },
  {
   "cell_type": "code",
   "execution_count": 188,
   "metadata": {},
   "outputs": [],
   "source": [
    "thermodynamic_properties = hoomd.md.compute.ThermodynamicQuantities(\n",
    "    filter=hoomd.filter.All())"
   ]
  },
  {
   "cell_type": "code",
   "execution_count": 190,
   "metadata": {},
   "outputs": [],
   "source": [
    "simulation.operations.computes.append(thermodynamic_properties)\n",
    "simulation.run(1)"
   ]
  },
  {
   "cell_type": "code",
   "execution_count": 191,
   "metadata": {},
   "outputs": [
    {
     "data": {
      "text/plain": [
       "0.0"
      ]
     },
     "execution_count": 191,
     "metadata": {},
     "output_type": "execute_result"
    }
   ],
   "source": [
    "thermodynamic_properties.degrees_of_freedom"
   ]
  },
  {
   "cell_type": "code",
   "execution_count": 192,
   "metadata": {},
   "outputs": [
    {
     "data": {
      "image/png": "[encoded data removed]",
      "text/plain": [
       "<IPython.core.display.Image object>"
      ]
     },
     "execution_count": 192,
     "metadata": {},
     "output_type": "execute_result"
    }
   ],
   "source": [
    "orientation = [(1, 0, 0, 0)] * frame.particles.N\n",
    "render(frame.particles.position,orientation,10)"
   ]
  },
  {
   "cell_type": "code",
   "execution_count": 193,
   "metadata": {},
   "outputs": [],
   "source": [
    "hoomd.write.GSD.write(state=simulation.state, filename='random.gsd', mode='xb')"
   ]
  }
 ],
 "metadata": {
  "kernelspec": {
   "display_name": "myenv2",
   "language": "python",
   "name": "python3"
  },
  "language_info": {
   "codemirror_mode": {
    "name": "ipython",
    "version": 3
   },
   "file_extension": ".py",
   "mimetype": "text/x-python",
   "name": "python",
   "nbconvert_exporter": "python",
   "pygments_lexer": "ipython3",
   "version": "3.12.1"
  }
 },
 "nbformat": 4,
 "nbformat_minor": 2
}
