{
 "cells": [
  {
   "cell_type": "code",
   "execution_count": 12,
   "metadata": {},
   "outputs": [],
   "source": [
    "import hoomd\n",
    "import gsd.hoomd\n",
    "\n",
    "frame = gsd.hoomd.Frame()\n",
    "\n",
    "# Place a polymer in the box.\n",
    "frame.particles.N = 5\n",
    "frame.particles.position = [[-2, 0, 0], [-1, 0, 0], [0, 0, 0], [1, 0, 0],\n",
    "                            [2, 0, 0]]\n",
    "frame.particles.types = ['A']\n",
    "frame.particles.typeid = [0] * 5\n",
    "frame.configuration.box = [20, 20, 20, 0, 0, 0]\n",
    "\n",
    "# Connect particles with bonds.\n",
    "frame.bonds.N = 4\n",
    "frame.bonds.types = ['A-A']\n",
    "frame.bonds.typeid = [0] * 4\n",
    "frame.bonds.group = [[0, 1], [1, 2], [2, 3], [3, 4]]\n",
    "\n",
    "with gsd.hoomd.open(name='molecular.gsd', mode='x') as f:\n",
    "    f.append(frame)\n",
    "\n",
    "# Apply the harmonic potential on the bonds.\n",
    "harmonic = hoomd.md.bond.Harmonic()\n",
    "harmonic.params['A-A'] = dict(k=100, r0=1.0)\n",
    "\n",
    "# Perform the MD simulation.\n",
    "sim = hoomd.Simulation(device=hoomd.device.CPU(), seed=1)\n",
    "sim.create_state_from_gsd(filename='molecular.gsd')\n",
    "langevin = hoomd.md.methods.Langevin(filter=hoomd.filter.All(), kT=1.0)\n",
    "integrator = hoomd.md.Integrator(dt=0.005,\n",
    "                                 methods=[langevin],\n",
    "                                 forces=[harmonic])\n",
    "gsd_writer = hoomd.write.GSD(filename='molecular_trajectory.gsd',\n",
    "                             trigger=hoomd.trigger.Periodic(1000),\n",
    "                             mode='xb')\n",
    "sim.operations.integrator = integrator\n",
    "sim.operations.writers.append(gsd_writer)\n",
    "sim.run(10e3)"
   ]
  },
  {
   "cell_type": "code",
   "execution_count": 13,
   "metadata": {},
   "outputs": [
    {
     "ename": "AttributeError",
     "evalue": "Property not computed. Call compute first.",
     "output_type": "error",
     "traceback": [
      "\u001b[0;31m---------------------------------------------------------------------------\u001b[0m",
      "\u001b[0;31mAttributeError\u001b[0m                            Traceback (most recent call last)",
      "Cell \u001b[0;32mIn[13], line 12\u001b[0m\n\u001b[1;32m     10\u001b[0m \u001b[38;5;66;03m# Get bin centers, RDF data from attributes\u001b[39;00m\n\u001b[1;32m     11\u001b[0m r \u001b[38;5;241m=\u001b[39m rdf\u001b[38;5;241m.\u001b[39mbin_centers\n\u001b[0;32m---> 12\u001b[0m y \u001b[38;5;241m=\u001b[39m \u001b[43mrdf\u001b[49m\u001b[38;5;241;43m.\u001b[39;49m\u001b[43mrdf\u001b[49m\n",
      "File \u001b[0;32mutil.pyx:157\u001b[0m, in \u001b[0;36mfreud.util._Compute.__getattribute__\u001b[0;34m()\u001b[0m\n",
      "File \u001b[0;32mutil.pyx:190\u001b[0m, in \u001b[0;36mfreud.util._Compute._computed_property.wrapper\u001b[0;34m()\u001b[0m\n",
      "\u001b[0;31mAttributeError\u001b[0m: Property not computed. Call compute first."
     ]
    }
   ],
   "source": [
    "import freud\n",
    "# Create a freud compute object (RDF is the canonical example)\n",
    "rdf = freud.density.RDF(bins=50, r_max=5)\n",
    "\n",
    "# Load a GSD trajectory (see docs for other formats)\n",
    "traj = gsd.hoomd.open('molecular_trajectory.gsd', 'r')\n",
    "for frame in traj:\n",
    "    rdf.compute(system=frame, reset=False)\n",
    "\n",
    "# Get bin centers, RDF data from attributes\n",
    "r = rdf.bin_centers\n",
    "y = rdf.rdf"
   ]
  },
  {
   "cell_type": "code",
   "execution_count": null,
   "metadata": {},
   "outputs": [],
   "source": []
  }
 ],
 "metadata": {
  "kernelspec": {
   "display_name": "myenv2",
   "language": "python",
   "name": "python3"
  },
  "language_info": {
   "codemirror_mode": {
    "name": "ipython",
    "version": 3
   },
   "file_extension": ".py",
   "mimetype": "text/x-python",
   "name": "python",
   "nbconvert_exporter": "python",
   "pygments_lexer": "ipython3",
   "version": "3.12.1"
  }
 },
 "nbformat": 4,
 "nbformat_minor": 2
}
