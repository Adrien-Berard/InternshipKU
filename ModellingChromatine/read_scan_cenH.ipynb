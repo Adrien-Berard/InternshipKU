{
 "cells": [
  {
   "cell_type": "code",
   "execution_count": 1,
   "metadata": {},
   "outputs": [
    {
     "data": {
      "text/html": [
       "<div>\n",
       "<style scoped>\n",
       "    .dataframe tbody tr th:only-of-type {\n",
       "        vertical-align: middle;\n",
       "    }\n",
       "\n",
       "    .dataframe tbody tr th {\n",
       "        vertical-align: top;\n",
       "    }\n",
       "\n",
       "    .dataframe thead th {\n",
       "        text-align: right;\n",
       "    }\n",
       "</style>\n",
       "<table border=\"1\" class=\"dataframe\">\n",
       "  <thead>\n",
       "    <tr style=\"text-align: right;\">\n",
       "      <th></th>\n",
       "      <th>Time Steps</th>\n",
       "      <th>A in gene</th>\n",
       "      <th>CenHsize</th>\n",
       "      <th>Burst Frequency</th>\n",
       "    </tr>\n",
       "  </thead>\n",
       "  <tbody>\n",
       "    <tr>\n",
       "      <th>0</th>\n",
       "      <td>1</td>\n",
       "      <td>4</td>\n",
       "      <td>15</td>\n",
       "      <td>0.1</td>\n",
       "    </tr>\n",
       "    <tr>\n",
       "      <th>1</th>\n",
       "      <td>201</td>\n",
       "      <td>3</td>\n",
       "      <td>15</td>\n",
       "      <td>0.1</td>\n",
       "    </tr>\n",
       "    <tr>\n",
       "      <th>2</th>\n",
       "      <td>401</td>\n",
       "      <td>6</td>\n",
       "      <td>15</td>\n",
       "      <td>0.1</td>\n",
       "    </tr>\n",
       "    <tr>\n",
       "      <th>3</th>\n",
       "      <td>601</td>\n",
       "      <td>5</td>\n",
       "      <td>15</td>\n",
       "      <td>0.1</td>\n",
       "    </tr>\n",
       "    <tr>\n",
       "      <th>4</th>\n",
       "      <td>801</td>\n",
       "      <td>6</td>\n",
       "      <td>15</td>\n",
       "      <td>0.1</td>\n",
       "    </tr>\n",
       "    <tr>\n",
       "      <th>...</th>\n",
       "      <td>...</td>\n",
       "      <td>...</td>\n",
       "      <td>...</td>\n",
       "      <td>...</td>\n",
       "    </tr>\n",
       "    <tr>\n",
       "      <th>319995</th>\n",
       "      <td>99001</td>\n",
       "      <td>1</td>\n",
       "      <td>30</td>\n",
       "      <td>1.0</td>\n",
       "    </tr>\n",
       "    <tr>\n",
       "      <th>319996</th>\n",
       "      <td>99201</td>\n",
       "      <td>2</td>\n",
       "      <td>30</td>\n",
       "      <td>1.0</td>\n",
       "    </tr>\n",
       "    <tr>\n",
       "      <th>319997</th>\n",
       "      <td>99401</td>\n",
       "      <td>2</td>\n",
       "      <td>30</td>\n",
       "      <td>1.0</td>\n",
       "    </tr>\n",
       "    <tr>\n",
       "      <th>319998</th>\n",
       "      <td>99601</td>\n",
       "      <td>1</td>\n",
       "      <td>30</td>\n",
       "      <td>1.0</td>\n",
       "    </tr>\n",
       "    <tr>\n",
       "      <th>319999</th>\n",
       "      <td>99801</td>\n",
       "      <td>1</td>\n",
       "      <td>30</td>\n",
       "      <td>1.0</td>\n",
       "    </tr>\n",
       "  </tbody>\n",
       "</table>\n",
       "<p>320000 rows × 4 columns</p>\n",
       "</div>"
      ],
      "text/plain": [
       "        Time Steps  A in gene  CenHsize  Burst Frequency\n",
       "0                1          4        15              0.1\n",
       "1              201          3        15              0.1\n",
       "2              401          6        15              0.1\n",
       "3              601          5        15              0.1\n",
       "4              801          6        15              0.1\n",
       "...            ...        ...       ...              ...\n",
       "319995       99001          1        30              1.0\n",
       "319996       99201          2        30              1.0\n",
       "319997       99401          2        30              1.0\n",
       "319998       99601          1        30              1.0\n",
       "319999       99801          1        30              1.0\n",
       "\n",
       "[320000 rows x 4 columns]"
      ]
     },
     "execution_count": 1,
     "metadata": {},
     "output_type": "execute_result"
    }
   ],
   "source": [
    "import pandas as pd\n",
    "import matplotlib.pyplot as plt\n",
    "import seaborn as sns\n",
    "import numpy as np\n",
    "\n",
    "# Assuming you have a CSV file with the data, replace 'your_csv_file.csv' with your actual CSV file name.\n",
    "csv_filename = 'ScanCenH2_Proba_0.8_polymerasecount_0_F_10_newpolyproba_0.01.csv'\n",
    "df = pd.read_csv(csv_filename)\n",
    "df"
   ]
  },
  {
   "cell_type": "code",
   "execution_count": null,
   "metadata": {},
   "outputs": [
    {
     "data": {
      "text/plain": [
       "(500,)"
      ]
     },
     "execution_count": 13,
     "metadata": {},
     "output_type": "execute_result"
    }
   ],
   "source": [
    "# Define the number of simulation steps and frames to show\n",
    "simulation_steps = 100000\n",
    "frames_to_show = simulation_steps // 200\n",
    "\n",
    "# Extract and reshape 'A in gene' column\n",
    "As = df['A in gene'].to_numpy()\n",
    "As_reshaped = As.reshape(frames_to_show, len(As) // frames_to_show)\n",
    "meanA, stdA = As_reshaped.mean(axis=1), As_reshaped.std(axis=1)\n",
    "meanA.shape"
   ]
  },
  {
   "cell_type": "code",
   "execution_count": null,
   "metadata": {},
   "outputs": [
    {
     "data": {
      "text/plain": [
       "array([5.7078125, 5.7078125, 5.7078125, ..., 0.6109375, 0.6109375,\n",
       "       0.6109375])"
      ]
     },
     "execution_count": 16,
     "metadata": {},
     "output_type": "execute_result"
    }
   ],
   "source": [
    "meanA = meanA.repeat(len(As)//frames_to_show)\n",
    "meanA.shape"
   ]
  },
  {
   "cell_type": "code",
   "execution_count": null,
   "metadata": {},
   "outputs": [],
   "source": [
    "burst = np.linspace(0.1, 1, 40)\n",
    "cenH = np.arange(15, 31)\n"
   ]
  },
  {
   "cell_type": "code",
   "execution_count": null,
   "metadata": {},
   "outputs": [
    {
     "data": {
      "text/plain": [
       "600"
      ]
     },
     "execution_count": 14,
     "metadata": {},
     "output_type": "execute_result"
    }
   ],
   "source": [
    "np.size(cenH)*np.size(burst)"
   ]
  },
  {
   "cell_type": "code",
   "execution_count": null,
   "metadata": {},
   "outputs": [
    {
     "data": {
      "image/png": "[encoded data removed]",
      "text/plain": [
       "<Figure size 672.125x600 with 2 Axes>"
      ]
     },
     "metadata": {},
     "output_type": "display_data"
    }
   ],
   "source": [
    "# Create a scatter plot using seaborn\n",
    "g = sns.relplot(data = df,\n",
    "    x=\"CenHsize\", y=\"Burst Frequency\",\n",
    "    hue=meanA, size=stdA,\n",
    "    palette='viridis',\n",
    "    height=6,\n",
    ")\n",
    "\n",
    "# Set log scale for both x and y axes\n",
    "g.set(xscale=\"log\", yscale=\"log\")\n",
    "\n",
    "# Add colorbar\n",
    "cbar = plt.colorbar(g.ax.collections[0])\n",
    "cbar.set_label('Mean A in gene')\n",
    "\n",
    "# Set axis labels and title\n",
    "plt.xlabel('Burst Frequency (log scale)')\n",
    "plt.ylabel('CenHsize (log scale)')\n",
    "plt.title('Scatter Plot of Burst Frequency vs. CenHsize')\n",
    "\n",
    "# Show the plot\n",
    "plt.show()\n"
   ]
  },
  {
   "cell_type": "code",
   "execution_count": null,
   "metadata": {},
   "outputs": [],
   "source": []
  }
 ],
 "metadata": {
  "kernelspec": {
   "display_name": "myenv2",
   "language": "python",
   "name": "python3"
  },
  "language_info": {
   "codemirror_mode": {
    "name": "ipython",
    "version": 3
   },
   "file_extension": ".py",
   "mimetype": "text/x-python",
   "name": "python",
   "nbconvert_exporter": "python",
   "pygments_lexer": "ipython3",
   "version": "3.12.1"
  }
 },
 "nbformat": 4,
 "nbformat_minor": 2
}
