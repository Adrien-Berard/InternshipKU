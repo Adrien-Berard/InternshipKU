{
 "cells": [
  {
   "cell_type": "code",
   "execution_count": 3,
   "metadata": {},
   "outputs": [],
   "source": [
    "import pandas as pd\n",
    "import matplotlib.pyplot as plt\n",
    "import numpy as np\n",
    "import ast  # Import the ast module to parse the string representation of lists\n",
    "from matplotlib.colors import ListedColormap\n",
    "\n",
    "# Assuming you have a CSV file with the data, replace 'your_csv_file.csv' with your actual CSV file name.\n",
    "csv_filename = 'CenH_counting_lists_dataframe_polymerasecount_0_alpha_0.9871794871794872_F_77_addingpolyprobaintercept_0.1_addingpolyprobaslope_1e-05.csv'\n",
    "df = pd.read_csv(csv_filename)\n",
    "\n",
    "# Function to update the plot in each animation frame\n",
    "def update(frame):\n",
    "    plt.clf()  # Clear the previous frame\n",
    "\n",
    "    # Subplot for Polymerase Count\n",
    "    plt.subplot(3, 1, 1)\n",
    "    plt.plot(df['Time Steps'][:frame+1], df['Polymerase Count'][:frame+1],label='Polymerase Count')\n",
    "    plt.title('Polymerase Count')\n",
    "    plt.xlabel('Time Steps')\n",
    "    plt.ylabel('Count')\n",
    "    plt.legend()\n",
    "\n",
    "    # Subplot for Histone Counts\n",
    "    plt.subplot(3, 1, 2)\n",
    "\n",
    "    plt.plot(df['Time Steps'][:frame+1], df['Acetylated Histone Count'][:frame+1], label='Acetylated Histone Count', color = \"b\")\n",
    "    plt.plot(df['Time Steps'][:frame+1], df['Methylated Histone Count'][:frame+1], label='Methylated Histone Count', color = \"r\")\n",
    "    plt.plot(df['Time Steps'][:frame+1], df['Unmodified Histone Count'][:frame+1], label='Unmodified Histone Count', color = \"y\")\n",
    "    plt.title('Histone Counts')\n",
    "    plt.xlabel('Time Steps')\n",
    "    plt.ylabel('Count')\n",
    "    plt.legend()\n",
    "\n",
    "      # Subplot for Chromatin State Colormap\n",
    "    plt.subplot(3, 1, 3)\n",
    "    chromatin_state = df['Chromatine Array'][frame]\n",
    "    print(chromatin_state)\n",
    "\n",
    "    # Convert chromatin state to a numerical representation for colormap\n",
    "    state_to_number = {'U': 0, 'M': 1, 'A': 2, '[': 3, ']': 3}\n",
    "    chromatin_numeric = np.array([state_to_number[char] for char in chromatin_state])\n",
    "\n",
    "    # Create a colormap with distinct colors for each state\n",
    "    cmap = ListedColormap(['blue', 'red', 'yellow'])\n",
    "\n",
    "    plt.imshow([chromatin_numeric], cmap=cmap, aspect='auto', extent=[0, len(chromatin_state), 0, 1])\n",
    "    plt.title('Chromatin State Colormap')\n",
    "    plt.xlabel('Chromatin Position')\n",
    "    plt.yticks([])  # Hide y-axis ticks for better visualization"
   ]
  },
  {
   "cell_type": "code",
   "execution_count": 16,
   "metadata": {
    "scrolled": true
   },
   "outputs": [
    {
     "data": {
      "text/plain": [
       "[\"['U'\",\n",
       " \"'U'\",\n",
       " \"'M'\",\n",
       " \"'M'\",\n",
       " \"'M'\",\n",
       " \"'M'\",\n",
       " \"'M'\",\n",
       " \"'M'\",\n",
       " \"'M'\",\n",
       " \"'U'\",\n",
       " \"'M'\",\n",
       " \"'M'\",\n",
       " \"'M'\",\n",
       " \"'M'\",\n",
       " \"'M'\",\n",
       " \"'M'\",\n",
       " \"'M'\",\n",
       " \"'M'\",\n",
       " \"'M'\",\n",
       " \"'M'\",\n",
       " \"'M'\",\n",
       " \"'M'\",\n",
       " \"'M'\",\n",
       " \"'M'\",\n",
       " \"'M'\",\n",
       " \"'A'\",\n",
       " \"'A'\",\n",
       " \"'A'\",\n",
       " \"'A'\",\n",
       " \"'A'\",\n",
       " \"'A'\",\n",
       " \"'A'\",\n",
       " \"'A'\",\n",
       " \"'U'\",\n",
       " \"'A'\",\n",
       " \"'U'\",\n",
       " \"'M'\",\n",
       " \"'M'\",\n",
       " \"'U'\",\n",
       " \"'A'\",\n",
       " \"'M'\",\n",
       " \"'U'\",\n",
       " \"'M'\",\n",
       " \"'M'\",\n",
       " \"'A'\",\n",
       " \"'M'\",\n",
       " \"'U'\",\n",
       " \"'A'\",\n",
       " \"'U'\",\n",
       " \"'U'\",\n",
       " \"'M'\",\n",
       " \"'M'\",\n",
       " \"'M'\",\n",
       " \"'M'\",\n",
       " \"'U'\",\n",
       " \"'M'\",\n",
       " \"'U'\",\n",
       " \"'M'\",\n",
       " \"'U'\",\n",
       " \"'M']\"]"
      ]
     },
     "execution_count": 16,
     "metadata": {},
     "output_type": "execute_result"
    }
   ],
   "source": [
    "chromatin_state = df['Chromatine Array'][20]\n",
    "chromatin_state.split()"
   ]
  },
  {
   "cell_type": "code",
   "execution_count": 12,
   "metadata": {},
   "outputs": [
    {
     "ename": "KeyError",
     "evalue": "' '",
     "output_type": "error",
     "traceback": [
      "\u001b[1;31m---------------------------------------------------------------------------\u001b[0m",
      "\u001b[1;31mKeyError\u001b[0m                                  Traceback (most recent call last)",
      "Cell \u001b[1;32mIn[12], line 2\u001b[0m\n\u001b[0;32m      1\u001b[0m state_to_number \u001b[38;5;241m=\u001b[39m {\u001b[38;5;124m'\u001b[39m\u001b[38;5;124mU\u001b[39m\u001b[38;5;124m'\u001b[39m: \u001b[38;5;241m0\u001b[39m, \u001b[38;5;124m'\u001b[39m\u001b[38;5;124mM\u001b[39m\u001b[38;5;124m'\u001b[39m: \u001b[38;5;241m1\u001b[39m, \u001b[38;5;124m'\u001b[39m\u001b[38;5;124mA\u001b[39m\u001b[38;5;124m'\u001b[39m: \u001b[38;5;241m2\u001b[39m, \u001b[38;5;124m'\u001b[39m\u001b[38;5;124m[\u001b[39m\u001b[38;5;124m'\u001b[39m: \u001b[38;5;241m3\u001b[39m, \u001b[38;5;124m'\u001b[39m\u001b[38;5;124m]\u001b[39m\u001b[38;5;124m'\u001b[39m: \u001b[38;5;241m3\u001b[39m,\u001b[38;5;124m\"\u001b[39m\u001b[38;5;124m'\u001b[39m\u001b[38;5;124m\"\u001b[39m:\u001b[38;5;241m3\u001b[39m}\n\u001b[1;32m----> 2\u001b[0m chromatin_numeric \u001b[38;5;241m=\u001b[39m np\u001b[38;5;241m.\u001b[39marray([state_to_number[char] \u001b[38;5;28;01mfor\u001b[39;00m char \u001b[38;5;129;01min\u001b[39;00m chromatin_state])\n",
      "Cell \u001b[1;32mIn[12], line 2\u001b[0m, in \u001b[0;36m<listcomp>\u001b[1;34m(.0)\u001b[0m\n\u001b[0;32m      1\u001b[0m state_to_number \u001b[38;5;241m=\u001b[39m {\u001b[38;5;124m'\u001b[39m\u001b[38;5;124mU\u001b[39m\u001b[38;5;124m'\u001b[39m: \u001b[38;5;241m0\u001b[39m, \u001b[38;5;124m'\u001b[39m\u001b[38;5;124mM\u001b[39m\u001b[38;5;124m'\u001b[39m: \u001b[38;5;241m1\u001b[39m, \u001b[38;5;124m'\u001b[39m\u001b[38;5;124mA\u001b[39m\u001b[38;5;124m'\u001b[39m: \u001b[38;5;241m2\u001b[39m, \u001b[38;5;124m'\u001b[39m\u001b[38;5;124m[\u001b[39m\u001b[38;5;124m'\u001b[39m: \u001b[38;5;241m3\u001b[39m, \u001b[38;5;124m'\u001b[39m\u001b[38;5;124m]\u001b[39m\u001b[38;5;124m'\u001b[39m: \u001b[38;5;241m3\u001b[39m,\u001b[38;5;124m\"\u001b[39m\u001b[38;5;124m'\u001b[39m\u001b[38;5;124m\"\u001b[39m:\u001b[38;5;241m3\u001b[39m}\n\u001b[1;32m----> 2\u001b[0m chromatin_numeric \u001b[38;5;241m=\u001b[39m np\u001b[38;5;241m.\u001b[39marray([state_to_number[char] \u001b[38;5;28;01mfor\u001b[39;00m char \u001b[38;5;129;01min\u001b[39;00m chromatin_state])\n",
      "\u001b[1;31mKeyError\u001b[0m: ' '"
     ]
    }
   ],
   "source": [
    "state_to_number = {'U': 0, 'M': 1, 'A': 2, '[': 3, ']': 3,\"'\":3}\n",
    "chromatin_numeric = np.array([state_to_number[char] for char in chromatin_state])"
   ]
  },
  {
   "cell_type": "code",
   "execution_count": 4,
   "metadata": {},
   "outputs": [
    {
     "ename": "NameError",
     "evalue": "name 'frame' is not defined",
     "output_type": "error",
     "traceback": [
      "\u001b[1;31m---------------------------------------------------------------------------\u001b[0m",
      "\u001b[1;31mNameError\u001b[0m                                 Traceback (most recent call last)",
      "Cell \u001b[1;32mIn[4], line 3\u001b[0m\n\u001b[0;32m      1\u001b[0m \u001b[38;5;66;03m# Subplot for Chromatin State Colormap\u001b[39;00m\n\u001b[0;32m      2\u001b[0m plt\u001b[38;5;241m.\u001b[39msubplot(\u001b[38;5;241m3\u001b[39m, \u001b[38;5;241m1\u001b[39m, \u001b[38;5;241m3\u001b[39m)\n\u001b[1;32m----> 3\u001b[0m chromatin_state \u001b[38;5;241m=\u001b[39m df[\u001b[38;5;124m'\u001b[39m\u001b[38;5;124mChromatine Array\u001b[39m\u001b[38;5;124m'\u001b[39m][frame]\n\u001b[0;32m      4\u001b[0m \u001b[38;5;28mprint\u001b[39m(chromatin_state)\n\u001b[0;32m      6\u001b[0m \u001b[38;5;66;03m# Convert chromatin state to a numerical representation for colormap\u001b[39;00m\n",
      "\u001b[1;31mNameError\u001b[0m: name 'frame' is not defined"
     ]
    },
    {
     "data": {
      "image/png": "[encoded data removed]",
      "text/plain": [
       "<Figure size 640x480 with 1 Axes>"
      ]
     },
     "metadata": {},
     "output_type": "display_data"
    }
   ],
   "source": [
    "\n",
    "   \n",
    "    # Subplot for Chromatin State Colormap\n",
    "    plt.subplot(3, 1, 3)\n",
    "    chromatin_state = df['Chromatine Array'][frame]\n",
    "    print(chromatin_state)\n",
    "\n",
    "    # Convert chromatin state to a numerical representation for colormap\n",
    "    state_to_number = {'U': 0, 'M': 1, 'A': 2, '[': 3, ']': 3}\n",
    "    chromatin_numeric = np.array([state_to_number[char] for char in chromatin_state])\n",
    "\n",
    "    # Create a colormap with distinct colors for each state\n",
    "    cmap = ListedColormap(['blue', 'red', 'yellow'])\n",
    "\n",
    "    plt.imshow([chromatin_numeric], cmap=cmap, aspect='auto', extent=[0, len(chromatin_state), 0, 1])\n",
    "    plt.title('Chromatin State Colormap')\n",
    "    plt.xlabel('Chromatin Position')\n",
    "    plt.yticks([])  # Hide y-axis ticks for better visualization\n"
   ]
  },
  {
   "cell_type": "code",
   "execution_count": null,
   "metadata": {},
   "outputs": [],
   "source": [
    "\n",
    "\n",
    "# Create a static plot without chromatine visualization\n",
    "fig = plt.figure(figsize=(12, 8))\n",
    "update(len(df) - 1)  # Use the last frame to show the final state\n",
    "plt.tight_layout()\n",
    "plt.show()"
   ]
  }
 ],
 "metadata": {
  "kernelspec": {
   "display_name": "Python 3 (ipykernel)",
   "language": "python",
   "name": "python3"
  },
  "language_info": {
   "codemirror_mode": {
    "name": "ipython",
    "version": 3
   },
   "file_extension": ".py",
   "mimetype": "text/x-python",
   "name": "python",
   "nbconvert_exporter": "python",
   "pygments_lexer": "ipython3",
   "version": "3.11.5"
  }
 },
 "nbformat": 4,
 "nbformat_minor": 2
}
