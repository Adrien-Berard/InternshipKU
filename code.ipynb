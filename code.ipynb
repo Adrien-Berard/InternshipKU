{
 "cells": [
  {
   "cell_type": "code",
   "execution_count": null,
   "metadata": {},
   "outputs": [],
   "source": []
  },
  {
   "cell_type": "markdown",
   "metadata": {},
   "source": [
    "\n",
    "Faire un modèle de rnase s'attachant à la chromatine avec 8 histones, les rnases viennent aléatoirement et se déplace le long de la chaine de manière stochastique "
   ]
  },
  {
   "cell_type": "markdown",
   "metadata": {},
   "source": [
    "Faire des simulations de MD de polymères (chromatine)"
   ]
  },
  {
   "cell_type": "markdown",
   "metadata": {},
   "source": [
    "## Début du code"
   ]
  },
  {
   "cell_type": "code",
   "execution_count": 3,
   "metadata": {},
   "outputs": [
    {
     "ename": "ModuleNotFoundError",
     "evalue": "No module named 'matplotlib'",
     "output_type": "error",
     "traceback": [
      "\u001b[0;31m---------------------------------------------------------------------------\u001b[0m",
      "\u001b[0;31mModuleNotFoundError\u001b[0m                       Traceback (most recent call last)",
      "Cell \u001b[0;32mIn[3], line 2\u001b[0m\n\u001b[1;32m      1\u001b[0m \u001b[38;5;28;01mimport\u001b[39;00m \u001b[38;5;21;01mrandom\u001b[39;00m\n\u001b[0;32m----> 2\u001b[0m \u001b[38;5;28;01mimport\u001b[39;00m \u001b[38;5;21;01mmatplotlib\u001b[39;00m\u001b[38;5;21;01m.\u001b[39;00m\u001b[38;5;21;01mpyplot\u001b[39;00m \u001b[38;5;28;01mas\u001b[39;00m \u001b[38;5;21;01mplt\u001b[39;00m\n\u001b[1;32m      3\u001b[0m \u001b[38;5;28;01mfrom\u001b[39;00m \u001b[38;5;21;01mIPython\u001b[39;00m\u001b[38;5;21;01m.\u001b[39;00m\u001b[38;5;21;01mdisplay\u001b[39;00m \u001b[38;5;28;01mimport\u001b[39;00m display, clear_output\n\u001b[1;32m      4\u001b[0m \u001b[38;5;28;01mimport\u001b[39;00m \u001b[38;5;21;01mtime\u001b[39;00m\n",
      "\u001b[0;31mModuleNotFoundError\u001b[0m: No module named 'matplotlib'"
     ]
    }
   ],
   "source": [
    "import random\n",
    "import matplotlib.pyplot as plt\n",
    "from IPython.display import display, clear_output\n",
    "import time\n",
    "\n",
    "class Chromatine:\n",
    "    def __init__(self, histones_count):\n",
    "        # Initialize chromatine with histones\n",
    "        self.histones = ['H' for _ in range(histones_count)]\n",
    "\n",
    "class RNase:\n",
    "    def __init__(self, chromatine, position=0):\n",
    "        # Initialize RNase with a reference to the chromatine and a starting position\n",
    "        self.chromatine = chromatine\n",
    "        self.position = position\n",
    "\n",
    "    def move(self):\n",
    "        # Stochastic movement of RNase\n",
    "        movement = random.choice([-1, 1])\n",
    "        self.position += movement\n",
    "\n",
    "        # Boundering conditions\n",
    "        self.position = max(0, min(self.position, len(self.chromatine.histones) - 1))\n",
    "\n",
    "    def cleave_histone(self):\n",
    "        # Simulate the histone cleavage process by RNase\n",
    "        if self.chromatine.histones[self.position] == 'H':\n",
    "            self.chromatine.histones[self.position] = ' '\n",
    "\n",
    "def visualize_chromatine(histones):\n",
    "    # Display chromatine state as a bar chart\n",
    "    plt.bar(range(len(histones)), [1] * len(histones), color=[('gray' if hist == ' ' else 'blue') for hist in histones])\n",
    "    plt.title(\"Chromatine Structure\")\n",
    "    plt.xlabel(\"Histone Position\")\n",
    "    plt.ylabel(\"Histone\")\n",
    "    plt.show()\n",
    "\n",
    "def animate_simulation(chromatine, rnases, steps):\n",
    "    for step in range(steps):\n",
    "        for rnase in rnases:\n",
    "            rnase.move()\n",
    "            rnase.cleave_histone()\n",
    "\n",
    "        # Visualize the chromatine state\n",
    "        visualize_chromatine(chromatine.histones)\n",
    "\n",
    "        # Pause to create an animation effect\n",
    "        time.sleep(0.5)\n",
    "\n",
    "        # Clear the output for the next frame\n",
    "        clear_output(wait=True)\n",
    "\n",
    "# Parameters for simulation\n",
    "chromatine_size = 50\n",
    "rnase_count = 1\n",
    "simulation_steps = 20  # Reduced steps for demonstration purposes\n",
    "\n",
    "# Initialize chromatine and RNase\n",
    "chromatine = Chromatine(chromatine_size)\n",
    "rnases = [RNase(chromatine) for _ in range(rnase_count)]\n",
    "\n",
    "# Execute the simulation with animation\n",
    "animate_simulation(chromatine, rnases, simulation_steps)\n",
    "\n",
    "# Display the final state of chromatine\n",
    "visualize_chromatine(chromatine.histones)\n",
    "\n"
   ]
  },
  {
   "cell_type": "code",
   "execution_count": null,
   "metadata": {},
   "outputs": [],
   "source": []
  },
  {
   "cell_type": "code",
   "execution_count": null,
   "metadata": {},
   "outputs": [],
   "source": []
  }
 ],
 "metadata": {
  "kernelspec": {
   "display_name": "Python 3",
   "language": "python",
   "name": "python3"
  },
  "language_info": {
   "codemirror_mode": {
    "name": "ipython",
    "version": 3
   },
   "file_extension": ".py",
   "mimetype": "text/x-python",
   "name": "python",
   "nbconvert_exporter": "python",
   "pygments_lexer": "ipython3",
   "version": "3.9.6"
  }
 },
 "nbformat": 4,
 "nbformat_minor": 2
}
